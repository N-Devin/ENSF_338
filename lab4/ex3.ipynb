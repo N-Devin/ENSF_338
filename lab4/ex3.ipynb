{
 "cells": [
  {
   "attachments": {},
   "cell_type": "markdown",
   "metadata": {},
   "source": [
    "# Exercise 3: Stacking up\n",
    "\n",
    "1. Reuse the implementation of the basic list created previously"
   ]
  },
  {
   "cell_type": "code",
   "execution_count": null,
   "metadata": {},
   "outputs": [],
   "source": [
    "# 1. The code below implements a barebone linked list (by cutting some corners)\n",
    "\n",
    "\n",
    "class ListNode():\n",
    "    def __init__(self, value):\n",
    "        self.value = value\n",
    "        self.next = None\n",
    "\n",
    "\n",
    "# Linked List class definition, contains:\n",
    "    # Constructor\n",
    "class LinkedList():\n",
    "        def __init__(self):\n",
    "            self.head = None\n",
    "            self.size = 0\n",
    "            self.tail = None\n",
    "    # Append\n",
    "        def append (self, value):\n",
    "            if self.head is None:\n",
    "                self.head = ListNode(value)\n",
    "            else:\n",
    "                node = self.head\n",
    "                while node.next is not None:\n",
    "                    node = node.next\n",
    "                node.next = ListNode(value)\n",
    "            self.size += 1\n",
    "\n",
    "\n",
    "\n",
    "    # Get List head\n",
    "        def get_head(self):\n",
    "            return self.head\n",
    "    # Get next node\n",
    "        def get_next(self, node):\n",
    "            return node.next\n",
    "    # Get last node: no tail pointer\n",
    "        def get_last(self):\n",
    "            node = self.head\n",
    "            while node.next is not None:\n",
    "                node = node.next\n",
    "            return node\n",
    "\n"
   ]
  },
  {
   "attachments": {},
   "cell_type": "markdown",
   "metadata": {},
   "source": [
    "2. Implement a stack using the list. A stack is a data structure that supports the following operations:\n",
    "    1. Push: Add an element to the top of the stack\n",
    "    2. Pop: Remove the element at the top of the stack"
   ]
  },
  {
   "cell_type": "code",
   "execution_count": null,
   "metadata": {},
   "outputs": [],
   "source": [
    "# Stack implementation based on 'List' class above\n",
    "\n",
    "\n",
    "class ListNode():\n",
    "    def __init__(self, value):\n",
    "        self.value = value\n",
    "        self.next = None\n",
    "\n",
    "\n",
    "# Linked List class definition, contains:\n",
    "    # Constructor\n",
    "class LinkedList():\n",
    "        def __init__(self):\n",
    "            self.head = None\n",
    "            self.size = 0\n",
    "            self.tail = None\n",
    "    # Append\n",
    "        def append (self, value):\n",
    "            if self.head is None:\n",
    "                self.head = ListNode(value)\n",
    "            else:\n",
    "                node = self.head\n",
    "                while node.next is not None:\n",
    "                    node = node.next\n",
    "                node.next = ListNode(value)\n",
    "            self.size += 1\n",
    "\n",
    "    # Get List head\n",
    "        def get_head(self):\n",
    "            return self.head\n",
    "    # Get next node\n",
    "        def get_next(self, node):\n",
    "            return node.next\n",
    "    # Get last node: no tail pointer\n",
    "        def get_last(self):\n",
    "            node = self.head\n",
    "            while node.next is not None:\n",
    "                node = node.next\n",
    "            return node\n",
    "\n",
    "        def push(self, value):\n",
    "            if self.head is None:\n",
    "                self.head = ListNode(value)\n",
    "            else:\n",
    "                node = self.head\n",
    "                while node.next is not None:\n",
    "                    node = node.next\n",
    "                node.next = (value)\n",
    "\n",
    "            \n",
    "            self.size += 1\n",
    "\n",
    "        def pop(self):\n",
    "            node = self.head\n",
    "            while node.next.next is not None:\n",
    "                node = node.next\n",
    "            node.next = None\n",
    "            self.size -= 1\n"
   ]
  },
  {
   "cell_type": "code",
   "execution_count": null,
   "metadata": {},
   "outputs": [],
   "source": [
    "# Examples of use:\n",
    "\n",
    "# Create a stack\n",
    "\n",
    "\n",
    "# Push some values\n",
    "\n",
    "# Pop some values\n"
   ]
  }
 ],
 "metadata": {
  "kernelspec": {
   "display_name": "Python 3",
   "language": "python",
   "name": "python3"
  },
  "language_info": {
   "codemirror_mode": {
    "name": "ipython",
    "version": 3
   },
   "file_extension": ".py",
   "mimetype": "text/x-python",
   "name": "python",
   "nbconvert_exporter": "python",
   "pygments_lexer": "ipython3",
   "version": "3.11.1"
  },
  "orig_nbformat": 4,
  "vscode": {
   "interpreter": {
    "hash": "5c7b89af1651d0b8571dde13640ecdccf7d5a6204171d6ab33e7c296e100e08a"
   }
  }
 },
 "nbformat": 4,
 "nbformat_minor": 2
}
