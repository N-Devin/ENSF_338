{
 "cells": [
  {
   "attachments": {},
   "cell_type": "markdown",
   "metadata": {},
   "source": [
    "# Exercise 1: Linking it all together\n",
    "\n",
    "1. Implement a basic linked list. It should have the ability to add nodes, to retrieve the list's head, and to get the successor of a node"
   ]
  },
  {
   "cell_type": "code",
   "execution_count": 14,
   "metadata": {},
   "outputs": [],
   "source": [
    "# 1. The code below implements a barebone linked list (by cutting some corners)\n",
    "\n",
    "# Node Class definition\n",
    "\n",
    "class ListNode():\n",
    "    def __init__(self, value):\n",
    "        self.value = value\n",
    "        self.next = None\n",
    "\n",
    "\n",
    "# Linked List class definition, contains:\n",
    "    # Constructor\n",
    "class LinkedList():\n",
    "        def __init__(self):\n",
    "            self.head = None\n",
    "            self.size = 0\n",
    "            self.tail = None\n",
    "    # Append\n",
    "        def append (self, value):\n",
    "            if self.head is None:\n",
    "                self.head = ListNode(value)\n",
    "            else:\n",
    "                node = self.head\n",
    "                while node.next is not None:\n",
    "                    node = node.next\n",
    "                node.next = ListNode(value)\n",
    "            self.size += 1\n",
    "\n",
    "\n",
    "\n",
    "    # Get List head\n",
    "        def get_head(self):\n",
    "            return self.head\n",
    "    # Get next node\n",
    "        def get_next(self, node):\n",
    "            return node.next\n",
    "    # Get last node: no tail pointer\n",
    "        def get_last(self):\n",
    "            node = self.head\n",
    "            while node.next is not None:\n",
    "                node = node.next\n",
    "            return node\n",
    "\n"
   ]
  },
  {
   "cell_type": "code",
   "execution_count": 15,
   "metadata": {},
   "outputs": [
    {
     "name": "stdout",
     "output_type": "stream",
     "text": [
      "1\n",
      "2\n",
      "3\n"
     ]
    }
   ],
   "source": [
    "# Example of use:\n",
    "my_list = LinkedList()\n",
    "\n",
    "my_list.append(1)\n",
    "my_list.append(2)\n",
    "my_list.append(3)\n",
    "\n",
    "next = my_list.get_head()\n",
    "\n",
    "while next:\n",
    "    print(next.value)\n",
    "    next = my_list.get_next(next)"
   ]
  },
  {
   "attachments": {},
   "cell_type": "markdown",
   "metadata": {},
   "source": [
    "2. Improve the performance of the list for the case where an element is appended at the end of the list. This should be done by keeping a reference to the last element of the list."
   ]
  },
  {
   "cell_type": "code",
   "execution_count": 22,
   "metadata": {},
   "outputs": [],
   "source": [
    "# List optimized for tail insertion\n",
    "# Same as previous but with added tail pointer, which is used in the get last node\n",
    "\n",
    "class LinkedList():\n",
    "        def __init__(self):\n",
    "            self.head = None\n",
    "            self.size = 0\n",
    "            self.tail = None\n",
    "    # Append\n",
    "        def append (self, value):\n",
    "            if self.head is None:\n",
    "                self.head = ListNode(value)\n",
    "                self.tail = self.head\n",
    "            else:\n",
    "                self.tail.next = ListNode(value)\n",
    "                self.tail = self.tail.next\n",
    "            self.size += 1\n",
    "        \n",
    "        def get_head(self):\n",
    "            return self.head\n",
    "        def get_next(self, node):\n",
    "            return node.next\n",
    "        def get_last(self):\n",
    "            node = self.tail\n",
    "        "
   ]
  },
  {
   "attachments": {},
   "cell_type": "markdown",
   "metadata": {},
   "source": [
    "3. Extend the list to a doubly-linked list\\\n",
    "What changes to we need to make ?"
   ]
  },
  {
   "cell_type": "code",
   "execution_count": 42,
   "metadata": {},
   "outputs": [
    {
     "name": "stdout",
     "output_type": "stream",
     "text": [
      "Prev: None\n",
      "Next: 1\n",
      "Prev: 1\n",
      "Next: 2\n",
      "Prev: 2\n",
      "Next: 3\n"
     ]
    }
   ],
   "source": [
    "# 2. Doubly-linked list\n",
    "\n",
    "# 2. Doubly-linked list\n",
    " \n",
    "class DoubleListNode():\n",
    "    def __init__(self, value):\n",
    "        self.value = value\n",
    "        self.next = None\n",
    "        self.prev = None\n",
    " \n",
    "class DoubleLinkedList():\n",
    "        def __init__(self):\n",
    "            self.head = None\n",
    "            self.tail = None\n",
    "            self.size = 0\n",
    "    # Append\n",
    "        def append (self, value):\n",
    "            if self.head is None:\n",
    "                self.head = DoubleListNode(value)\n",
    "                self.tail = self.head\n",
    "            else:\n",
    "                tmp = self.tail # I think Dr. Khedr implemented this without tmp so you can check after he publishes his code\n",
    "                self.tail = DoubleListNode(value)\n",
    "                self.tail.prev = tmp\n",
    "                self.tail.prev.next = self.tail\n",
    "            self.size += 1\n",
    "       \n",
    "        def get_head(self):\n",
    "            return self.head\n",
    "        def get_tail(self):\n",
    "            return self.tail\n",
    "        def get_next(self, node):\n",
    "            return node.next\n",
    "        def get_prev(self, node):\n",
    "            return node.prev\n",
    " \n",
    "my_list = DoubleLinkedList()\n",
    " \n",
    "my_list.append(1)\n",
    "my_list.append(2)\n",
    "my_list.append(3)\n",
    " \n",
    "next = my_list.get_head()\n",
    "prev = my_list.get_prev(next)\n",
    " \n",
    "while next != None:\n",
    "    prev = my_list.get_prev(next)\n",
    "    if (prev == None):\n",
    "        print(\"Prev: None\")        \n",
    "    else:\n",
    "        print(\"Prev: {}\".format(prev.value))\n",
    "    print(\"Next: {}\".format(next.value))\n",
    "    next = my_list.get_next(next)"
   ]
  },
  {
   "cell_type": "code",
   "execution_count": 40,
   "metadata": {},
   "outputs": [
    {
     "name": "stdout",
     "output_type": "stream",
     "text": [
      "None\n"
     ]
    }
   ],
   "source": [
    "print(my_list.get_last())\n",
    "\n",
    "\n"
   ]
  },
  {
   "cell_type": "code",
   "execution_count": null,
   "metadata": {},
   "outputs": [],
   "source": []
  },
  {
   "cell_type": "code",
   "execution_count": null,
   "metadata": {},
   "outputs": [],
   "source": []
  },
  {
   "cell_type": "code",
   "execution_count": null,
   "metadata": {},
   "outputs": [],
   "source": []
  }
 ],
 "metadata": {
  "kernelspec": {
   "display_name": "Python 3",
   "language": "python",
   "name": "python3"
  },
  "language_info": {
   "codemirror_mode": {
    "name": "ipython",
    "version": 3
   },
   "file_extension": ".py",
   "mimetype": "text/x-python",
   "name": "python",
   "nbconvert_exporter": "python",
   "pygments_lexer": "ipython3",
   "version": "3.11.1"
  },
  "orig_nbformat": 4,
  "vscode": {
   "interpreter": {
    "hash": "5c7b89af1651d0b8571dde13640ecdccf7d5a6204171d6ab33e7c296e100e08a"
   }
  }
 },
 "nbformat": 4,
 "nbformat_minor": 2
}
