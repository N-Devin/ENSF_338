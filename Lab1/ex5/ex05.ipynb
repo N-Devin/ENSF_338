{
 "cells": [
  {
   "attachments": {},
   "cell_type": "markdown",
   "id": "e0acb5c8-c124-450b-8dd2-bb7fcf391945",
   "metadata": {},
   "source": [
    "# Plotting\n",
    "\n",
    "Consider the file at the following URL:\n",
    "\n",
    "```\n",
    "https://raw.githubusercontent.com/ldklab/ensf338w23/main/labs/lab01/lab05data.json\n",
    "```\n",
    "\n",
    "The file contains weather data for a large number of locations in Canada. The goal of this exercise is to visualize some of those data:\n",
    "\n",
    "1. Load the JSON data\n",
    "2. Visualize the distribution of January high temperatures\n",
    "3. Change the number of histogram bins to 20, the color of bars to red, and have the bars outlined in black\n",
    "4. Add axis labels and plot title\n",
    "5. Visualize the distribution of January low temperatures\n",
    "6. Change the number of histogram bins to 20, the color of bars to green, and have the bars outlined in grey\n",
    "7. Add axis labels and plot title\n",
    "7. Plot both graphs as subplots of the same plot\n",
    "8. Save the image as a PDF figure\n",
    "9. Save the image as a PNG figure\n",
    "\n"
   ]
  },
  {
   "cell_type": "code",
   "execution_count": null,
   "id": "3d2f4089-6e56-4553-b97e-b9217b62cee6",
   "metadata": {},
   "outputs": [],
   "source": [
    "# 1. Load the JSON data\n",
    "\n",
    "import json\n",
    "import urllib\n",
    "\n",
    "with urllib.request.urlopen('https://raw.githubusercontent.com/ldklab/ensf338w23/main/labs/lab01/lab05data.json') as inUrl:\n",
    "    content = json.load(inUrl)"
   ]
  },
  {
   "cell_type": "code",
   "execution_count": null,
   "id": "8c450931-23a2-4369-843d-6edbd589bddb",
   "metadata": {},
   "outputs": [],
   "source": [
    "content[0]"
   ]
  },
  {
   "cell_type": "code",
   "execution_count": null,
   "id": "f93bd48d-a6d6-44c1-b0d8-c7db35932918",
   "metadata": {},
   "outputs": [],
   "source": [
    "# 2. Visualize the distribution of January high temperatures\n",
    "\n",
    "temps = [r['January(Avg. high °C (°F))'] for r in content]"
   ]
  },
  {
   "cell_type": "code",
   "execution_count": null,
   "id": "da87e022-4173-4677-8be3-1fc88ef8b48f",
   "metadata": {},
   "outputs": [],
   "source": [
    "temps[:2]"
   ]
  },
  {
   "cell_type": "code",
   "execution_count": null,
   "id": "73b94257-320c-4c09-8ea5-fa3575a7ae5f",
   "metadata": {},
   "outputs": [],
   "source": [
    "temps = [float(t.split()[0]) for t in temps]"
   ]
  },
  {
   "cell_type": "code",
   "execution_count": null,
   "id": "27d0ae59-9b49-4dd9-b807-c8042e51840e",
   "metadata": {},
   "outputs": [],
   "source": [
    "temps[:2]"
   ]
  },
  {
   "cell_type": "code",
   "execution_count": null,
   "id": "4ca162d5-ac1d-4970-81a8-ef19956d9ffc",
   "metadata": {},
   "outputs": [],
   "source": [
    "from matplotlib import pyplot as plt\n",
    "\n",
    "plt.hist(temps)"
   ]
  },
  {
   "cell_type": "code",
   "execution_count": null,
   "id": "bb2bca76-c1f3-4649-b8a9-244f6a4174dd",
   "metadata": {},
   "outputs": [],
   "source": [
    "# 3. Change the number of histogram bins to 20, the color of bars to red, and have the bars outlined in black\n",
    "\n",
    "plt.hist(temps, bins=20, color='red', edgecolor='black')"
   ]
  },
  {
   "cell_type": "code",
   "execution_count": null,
   "id": "12855c58-9630-4023-9515-b807f581f577",
   "metadata": {},
   "outputs": [],
   "source": [
    "# 4. Add axis labels and plot title\n",
    "\n",
    "plt.hist(temps, bins=20, color='red', edgecolor='black')\n",
    "plt.xlabel('Temperature (C)')\n",
    "plt.ylabel('#Occurrences')\n",
    "plt.title('January high temperatures distribution')"
   ]
  },
  {
   "cell_type": "code",
   "execution_count": null,
   "id": "d476368e-76f3-4ea6-bcb5-ae67efa0b0b2",
   "metadata": {},
   "outputs": [],
   "source": [
    "# 5.  Visualize the distribution of January low temperatures\n",
    "\n",
    "tempslow = [float(r['January(Avg. low °C (°F))'].split()[0]) for r in content]\n",
    "plt.hist(tempslow)"
   ]
  },
  {
   "cell_type": "code",
   "execution_count": null,
   "id": "c615045f-640f-43f0-af14-735aafee140a",
   "metadata": {},
   "outputs": [],
   "source": [
    "# 6. Change the number of histogram bins to 20, the color of bars to green, and have the bars outlined in grey\n",
    "plt.hist(tempslow, bins=20, color='green', edgecolor='grey')"
   ]
  },
  {
   "cell_type": "code",
   "execution_count": null,
   "id": "71474e9d-78f8-422b-898f-3c9cd8af78f9",
   "metadata": {},
   "outputs": [],
   "source": [
    "# 7. Add axis labels and plot title\n",
    "plt.hist(tempslow, bins=20, color='green', edgecolor='grey')\n",
    "plt.xlabel('Temperature (C)')\n",
    "plt.ylabel('#Occurrences')\n",
    "plt.title('January low temperatures distribution')"
   ]
  },
  {
   "cell_type": "code",
   "execution_count": null,
   "id": "7dece473-1f12-4388-aced-6b35c8aeab66",
   "metadata": {},
   "outputs": [],
   "source": [
    "# 8. Plot both graphs as subplots of the same plot\n",
    "\n",
    "# First parameter is number of rows, second is number of columns\n",
    "figure, axis = plt.subplots(2, 1, figsize=(8,12))\n",
    "axis[0].hist(temps, bins=20, color='red', edgecolor='black')\n",
    "axis[0].set_title('January high temperatures distribution')\n",
    "axis[0].set(xlabel='Temperature (C)', ylabel='#Occurrences')\n",
    "axis[1].hist(tempslow, bins=20, color='green', edgecolor='grey')\n",
    "axis[1].set_title('January low temperatures distribution')\n",
    "axis[1].set(xlabel='Temperature (C)', ylabel='#Occurrences')"
   ]
  },
  {
   "cell_type": "code",
   "execution_count": null,
   "id": "6ed1e1c3-cc00-4c21-a53b-e86d60f1d065",
   "metadata": {},
   "outputs": [],
   "source": [
    "# 8. Save the image as a PDF figure\n",
    "\n",
    "figure.savefig('plot.pdf')"
   ]
  },
  {
   "cell_type": "code",
   "execution_count": null,
   "id": "f1555adc-eba7-4709-9f79-0bb58ccb528c",
   "metadata": {},
   "outputs": [],
   "source": [
    "# 9. Save the image as a PNG figure\n",
    "\n",
    "figure.savefig('plot.png')"
   ]
  }
 ],
 "metadata": {
  "kernelspec": {
   "display_name": "Python 3 (ipykernel)",
   "language": "python",
   "name": "python3"
  },
  "language_info": {
   "codemirror_mode": {
    "name": "ipython",
    "version": 3
   },
   "file_extension": ".py",
   "mimetype": "text/x-python",
   "name": "python",
   "nbconvert_exporter": "python",
   "pygments_lexer": "ipython3",
   "version": "3.11.1 (tags/v3.11.1:a7a450f, Dec  6 2022, 19:58:39) [MSC v.1934 64 bit (AMD64)]"
  },
  "vscode": {
   "interpreter": {
    "hash": "5238573367df39f7286bb46f9ff5f08f63a01a80960060ce41e3c79b190280fa"
   }
  }
 },
 "nbformat": 4,
 "nbformat_minor": 5
}
