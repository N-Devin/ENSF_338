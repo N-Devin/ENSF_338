{
 "cells": [
  {
   "cell_type": "markdown",
   "metadata": {},
   "source": [
    "# Exercise 7\n",
    "\n",
    "## More Timing and using Profilers\n",
    "\n",
    "This example defines a function sub_function that takes an integer as input and returns the factorial of it by calling itself recursively.\\\n",
    "The test_function calls this sub_function with a range of 10 integers, appends the result of sub_function to a list and returns the list.\\\n",
    "The timeit function is used to time how long it takes to run this function 1000 times."
   ]
  },
  {
   "cell_type": "code",
   "execution_count": null,
   "metadata": {},
   "outputs": [],
   "source": [
    "import timeit\n",
    "\n",
    "def sub_function(n):\n",
    "    #sub function that calculates the factorial of n\n",
    "    if n == 0:\n",
    "        return 1\n",
    "    else:\n",
    "        return n * sub_function(n-1)\n",
    "\n",
    "def test_function():\n",
    "    data = []\n",
    "    for i in range(10):\n",
    "        data.append(sub_function(i))\n",
    "    return data\n",
    "\n",
    "time = timeit.timeit(test_function, number=1000)\n",
    "print(f'Time taken to run the function: {time} seconds')"
   ]
  },
  {
   "cell_type": "markdown",
   "metadata": {},
   "source": [
    "This example defines a third_function that calculates the square of the numbers from 0 to 999, and takes no input.\\\n",
    "The test_function is called first, then third_function is called.\\\n",
    "The timeit function is used to time how long it takes to run each of these functions 1000 times."
   ]
  },
  {
   "cell_type": "code",
   "execution_count": null,
   "metadata": {},
   "outputs": [],
   "source": [
    "import timeit\n",
    "\n",
    "def sub_function(n):\n",
    "    #sub function that calculates the factorial of n\n",
    "    if n == 0:\n",
    "        return 1\n",
    "    else:\n",
    "        return n * sub_function(n-1)\n",
    "\n",
    "def test_function():\n",
    "    data = []\n",
    "    for i in range(10):\n",
    "        data.append(sub_function(i))\n",
    "    return data\n",
    "\n",
    "def third_function():\n",
    "    # third function that calculates the square of the numbers from 0 to 999\n",
    "    return [i**2 for i in range(1000)]\n",
    "\n",
    "time = timeit.timeit(test_function, number=1000)\n",
    "print(f'Time taken to run test_function: {time} seconds')\n",
    "\n",
    "time = timeit.timeit(third_function, number=1000)\n",
    "print(f'Time taken to run third_function: {time} seconds')"
   ]
  },
  {
   "cell_type": "markdown",
   "metadata": {},
   "source": [
    "While timeit helps in timing the execution of a method or a piece of code, it does not provide insight to what can be causing the program to run slow.\\\n",
    "To better understand the fine-grained performance of the code, we need to use profilers such as the cProfile module to help us identify the bottlenecks in the code"
   ]
  },
  {
   "cell_type": "code",
   "execution_count": null,
   "metadata": {},
   "outputs": [],
   "source": [
    "import cProfile\n",
    "\n",
    "def sub_function(n):\n",
    "    #sub function that calculates the factorial of n\n",
    "    if n == 0:\n",
    "        return 1\n",
    "    else:\n",
    "        return n * sub_function(n-1)\n",
    "\n",
    "def test_function():\n",
    "    data = []\n",
    "    for i in range(10):\n",
    "        data.append(sub_function(i))\n",
    "    return data\n",
    "\n",
    "def third_function():\n",
    "    # third function that calculates the square of the numbers from 0 to 999\n",
    "    return [i**2 for i in range(1000)]\n",
    "\n",
    "profiler = cProfile.Profile()\n",
    "profiler.enable()\n",
    "test_function()\n",
    "profiler.disable()\n",
    "profiler.print_stats()\n",
    "\n",
    "profiler = cProfile.Profile()\n",
    "profiler.enable()\n",
    "third_function()\n",
    "profiler.disable()\n",
    "profiler.print_stats()"
   ]
  }
 ],
 "metadata": {
  "kernelspec": {
   "display_name": "Python 3 (ipykernel)",
   "language": "python",
   "name": "python3"
  },
  "language_info": {
   "codemirror_mode": {
    "name": "ipython",
    "version": 3
   },
   "file_extension": ".py",
   "mimetype": "text/x-python",
   "name": "python",
   "nbconvert_exporter": "python",
   "pygments_lexer": "ipython3",
   "version": "3.11.1 (tags/v3.11.1:a7a450f, Dec  6 2022, 19:58:39) [MSC v.1934 64 bit (AMD64)]"
  },
  "vscode": {
   "interpreter": {
    "hash": "5238573367df39f7286bb46f9ff5f08f63a01a80960060ce41e3c79b190280fa"
   }
  }
 },
 "nbformat": 4,
 "nbformat_minor": 4
}
