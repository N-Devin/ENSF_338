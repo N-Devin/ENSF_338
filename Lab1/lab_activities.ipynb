{
 "cells": [
  {
   "cell_type": "markdown",
   "id": "4f466f6a-1c4f-41ec-a5c1-44f48e33f6e5",
   "metadata": {},
   "source": [
    "# ENSF 338 - Winter 2023\n",
    "## Lab 01 - Jan 17 2023\n",
    "\n",
    "## Activities:\n",
    "\n",
    "+ 2PM: Instructor and lab intro\n",
    "+ 2:05PM: Logistics questions\n",
    "+ 2:15PM: Exercises\n",
    "+ 3:15PM: Independent work\n",
    "+ 3:45PM: Wrap-up\n",
    "+ 3:50PM: Lab ends :-) \n",
    "    \n"
   ]
  }
 ],
 "metadata": {
  "kernelspec": {
   "display_name": "Python 3",
   "language": "python",
   "name": "python3"
  },
  "language_info": {
   "codemirror_mode": {
    "name": "ipython",
    "version": 3
   },
   "file_extension": ".py",
   "mimetype": "text/x-python",
   "name": "python",
   "nbconvert_exporter": "python",
   "pygments_lexer": "ipython3",
   "version": "3.11.1 (tags/v3.11.1:a7a450f, Dec  6 2022, 19:58:39) [MSC v.1934 64 bit (AMD64)]"
  },
  "vscode": {
   "interpreter": {
    "hash": "5238573367df39f7286bb46f9ff5f08f63a01a80960060ce41e3c79b190280fa"
   }
  }
 },
 "nbformat": 4,
 "nbformat_minor": 5
}
