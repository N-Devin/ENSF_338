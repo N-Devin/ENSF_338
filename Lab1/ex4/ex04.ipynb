{
 "cells": [
  {
   "cell_type": "markdown",
   "id": "28be3464-b88a-45cc-aa93-7b943ca4b40d",
   "metadata": {},
   "source": [
    "# Find the error\n",
    "\n",
    "Consider a proof-of-concept service that, given two numbers, is going to compute the ratio between them and express it as a percentage. The service is accessed by sending a HTTP POST request (*don't worry about that*) containing a JSON file in the following format:\n",
    "\n",
    "```\n",
    "{\n",
    "    \"numerator\": 2.0,\n",
    "    \"denominator\": 5.0\n",
    "}\n",
    "```\n",
    "\n",
    "And this is the code:"
   ]
  },
  {
   "cell_type": "code",
   "execution_count": null,
   "id": "fa254899-785c-4d59-ab49-41f2645200e2",
   "metadata": {},
   "outputs": [],
   "source": [
    "import socket\n",
    "import json\n",
    "    \n",
    "def processData(data):\n",
    "    content = json.loads(data)\n",
    "    num = float(content['numerator'])\n",
    "    den = float(content['denominator'])\n",
    "    return (num/den)*100.0\n",
    "\n",
    "# Don't worry too much about what happens below this line\n",
    "s = socket.socket(socket.AF_INET, socket.SOCK_STREAM)\n",
    "s.setsockopt(socket.SOL_SOCKET, socket.SO_REUSEADDR, 1)\n",
    "s.bind(('localhost', 8080))\n",
    "s.listen()\n",
    "while True:\n",
    "    conn, addr = s.accept()\n",
    "    data = conn.recv(1024)\n",
    "    val = processData(data)\n",
    "    conn.sendall(str(val).encode('utf-8'))\n",
    "    conn.close()\n"
   ]
  },
  {
   "cell_type": "markdown",
   "id": "0b1dd902-2554-414c-a5cd-5825e57d5bd2",
   "metadata": {},
   "source": [
    "1. Suppose I am a bad guy who wants your application to crash. Find one way I can accomplish that.\n",
    "2. Now, find another way I can accomplish that :-)"
   ]
  }
 ],
 "metadata": {
  "kernelspec": {
   "display_name": "Python 3 (ipykernel)",
   "language": "python",
   "name": "python3"
  },
  "language_info": {
   "codemirror_mode": {
    "name": "ipython",
    "version": 3
   },
   "file_extension": ".py",
   "mimetype": "text/x-python",
   "name": "python",
   "nbconvert_exporter": "python",
   "pygments_lexer": "ipython3",
   "version": "3.11.1 (tags/v3.11.1:a7a450f, Dec  6 2022, 19:58:39) [MSC v.1934 64 bit (AMD64)]"
  },
  "vscode": {
   "interpreter": {
    "hash": "5238573367df39f7286bb46f9ff5f08f63a01a80960060ce41e3c79b190280fa"
   }
  }
 },
 "nbformat": 4,
 "nbformat_minor": 5
}
