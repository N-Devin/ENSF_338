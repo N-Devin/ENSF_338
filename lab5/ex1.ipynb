{
 "cells": [
  {
   "cell_type": "markdown",
   "metadata": {},
   "source": [
    "# Exercise 1: put the stack to work\n",
    "\n",
    "Consider a language of arithmetic expressions with the following grammar:\n",
    "\n",
    "```\n",
    "expr ::= expr + expr  \n",
    "       | expr - expr  \n",
    "       | expr * expr  \n",
    "       | expr / expr  \n",
    "       | (expr)  \n",
    "       | {expr}  \n",
    "       | [expr]  \n",
    "       | number  \n",
    "```\n",
    "\n",
    "where number is a floating point number.  For example, the expressions\n",
    "\n",
    "```\n",
    "(1 + 2) * (3 + 4)\n",
    "{(1 + 2) * (3 + 4)}\n",
    "[({1 + 2})]\n",
    "```\n",
    "\n",
    "are valid expressions in this language.\n",
    "\n",
    "Write a stack-based parser that checks that parentheses, braces, and brackets are balanced.  For example, the expression\n",
    "\n",
    "`(1 + 2) * ([3] + 4)`\n",
    "\n",
    "is balanced, but the expression\n",
    "\n",
    "`(1 + 2] * (3 + 4`\n",
    "\n",
    "is not balanced."
   ]
  },
  {
   "cell_type": "code",
   "execution_count": null,
   "metadata": {},
   "outputs": [],
   "source": [
    "# Define a stack class\n",
    "\n"
   ]
  },
  {
   "cell_type": "code",
   "execution_count": null,
   "metadata": {},
   "outputs": [],
   "source": [
    "# Write a tokenizer function for arithmetic expression\n",
    "\n"
   ]
  },
  {
   "cell_type": "code",
   "execution_count": null,
   "metadata": {},
   "outputs": [],
   "source": [
    "# Use the stack and tokenizer to check whether the parentheses are balanced\n",
    "\n"
   ]
  },
  {
   "cell_type": "code",
   "execution_count": null,
   "metadata": {},
   "outputs": [],
   "source": [
    "# A few tests\n",
    "\n"
   ]
  },
  {
   "cell_type": "code",
   "execution_count": null,
   "metadata": {},
   "outputs": [],
   "source": []
  }
 ],
 "metadata": {
  "kernelspec": {
   "display_name": "Python 3",
   "language": "python",
   "name": "python3"
  },
  "language_info": {
   "codemirror_mode": {
    "name": "ipython",
    "version": 3
   },
   "file_extension": ".py",
   "mimetype": "text/x-python",
   "name": "python",
   "nbconvert_exporter": "python",
   "pygments_lexer": "ipython3",
   "version": "3.11.1"
  },
  "vscode": {
   "interpreter": {
    "hash": "5238573367df39f7286bb46f9ff5f08f63a01a80960060ce41e3c79b190280fa"
   }
  }
 },
 "nbformat": 4,
 "nbformat_minor": 4
}
