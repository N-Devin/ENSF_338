{
 "cells": [
  {
   "cell_type": "markdown",
   "metadata": {},
   "source": [
    "# Exercise 2: running around\n",
    "\n",
    "In this exercise, we are going to implement a circular queue. A circular queue is a queue that uses a fixed-size array, and the front of the queue wraps around to the back of the array when it reaches the end. Requirements:\n",
    "\n",
    "1. The circular queue should provide the following methods:\n",
    "    1. `enqueue` adds an item to the queue\n",
    "    2. `dequeue` removes and returns the front-most item in the queue\n",
    "    3. `peek` just returns the front-most item in the queue without removing it.\n",
    "2. The queue should be implemented using a fixed-size Python array.\n",
    "3. The queue should return a special value (e.g., `None`) if you try to dequeue from an empty queue.\n",
    "4. The queue should return a special value (e.g., `None`) if you try to peek at an empty queue.\n",
    "5. The queue should return a special value (e.g., `None`) if you try to enqueue an item into a full queue."
   ]
  },
  {
   "cell_type": "code",
   "execution_count": null,
   "metadata": {
    "jupyter": {
     "source_hidden": true
    },
    "tags": []
   },
   "outputs": [],
   "source": [
    "# circular queue implementation\n"
   ]
  },
  {
   "cell_type": "code",
   "execution_count": null,
   "metadata": {
    "jupyter": {
     "source_hidden": true
    },
    "tags": []
   },
   "outputs": [],
   "source": [
    "# Test\n",
    "\n",
    "# Create a queue of size 5\n",
    "q = CircularQueue(5)\n",
    "\n",
    "print(\"Dequeue from empty queue\")\n",
    "print(q.dequeue())\n",
    "\n",
    "print(\"Peek into empty queue\")\n",
    "print(q.peek())\n",
    "\n",
    "print(\"Enqueue 5 elements\")\n",
    "q.enqueue(1)\n",
    "q.enqueue(2)\n",
    "q.enqueue(3)\n",
    "q.enqueue(4)\n",
    "q.enqueue(5)\n",
    "print(q.queue)\n",
    "\n",
    "print(\"Try to enqueue into a full queue\")\n",
    "q.enqueue(6)\n",
    "print(q.queue)\n",
    "\n",
    "\n",
    "print(\"Dequeue 3 elements\")\n",
    "print(q.dequeue())\n",
    "print(q.dequeue())\n",
    "print(q.dequeue())\n",
    "\n",
    "print(\"Enqueue 2 more elements: 6,7\")\n",
    "q.enqueue(6)\n",
    "q.enqueue(7)\n",
    "\n",
    "print(\"Print the queue\")\n",
    "print(q.queue)\n",
    "\n",
    "print(\"Dequeue all\")\n",
    "print(q.dequeue())\n",
    "print(q.dequeue())\n",
    "print(q.dequeue())\n",
    "print(q.dequeue())\n",
    "print(q.dequeue())"
   ]
  },
  {
   "cell_type": "code",
   "execution_count": null,
   "metadata": {},
   "outputs": [],
   "source": []
  }
 ],
 "metadata": {
  "kernelspec": {
   "display_name": "Python 3",
   "language": "python",
   "name": "python3"
  },
  "language_info": {
   "codemirror_mode": {
    "name": "ipython",
    "version": 3
   },
   "file_extension": ".py",
   "mimetype": "text/x-python",
   "name": "python",
   "nbconvert_exporter": "python",
   "pygments_lexer": "ipython3",
   "version": "3.11.1"
  },
  "vscode": {
   "interpreter": {
    "hash": "5238573367df39f7286bb46f9ff5f08f63a01a80960060ce41e3c79b190280fa"
   }
  }
 },
 "nbformat": 4,
 "nbformat_minor": 4
}
