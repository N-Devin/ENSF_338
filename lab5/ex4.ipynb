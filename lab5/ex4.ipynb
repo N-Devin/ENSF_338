{
 "cells": [
  {
   "attachments": {},
   "cell_type": "markdown",
   "metadata": {},
   "source": [
    "# Exercise 4: Head-to-Head\n",
    "\n",
    "In this exercise, we are going to compare two implementations of a priority queue: a naive implementation and a heap-based implementation. We will use the `timeit` module to measure the time it takes to run each implementation.\n",
    "\n",
    "1. Implement a priority queue using a linked list. The list should be sorted in ascending order. The `enqueue` method should insert a new item in the correct position in the list. The `extract` method should remove and return the first item in the list. The `is_empty` method should return `True` if the list is empty, and `False` otherwise.\n",
    "2. Implement a priority queue using a heap. The `enqueue` method should insert a new item in the heap. The `extract` method should remove and return the first item in the heap. The `is_empty` method should return `True` if the heap is empty, and `False` otherwise.\n",
    "3. Evaluate the performance of each implementation using the `timeit` module, feeding each a vector of 1,000 elements to insert, and performing a call to `extract` every 10 insertions."
   ]
  },
  {
   "cell_type": "code",
   "execution_count": null,
   "metadata": {},
   "outputs": [],
   "source": [
    "# Priority queue based on linked list\n",
    "\n"
   ]
  },
  {
   "cell_type": "code",
   "execution_count": null,
   "metadata": {},
   "outputs": [],
   "source": [
    "# Priority queue based on heap\n",
    "\n"
   ]
  },
  {
   "cell_type": "code",
   "execution_count": null,
   "metadata": {},
   "outputs": [],
   "source": [
    "# Generate a list of operations:\n",
    "\n",
    "\n",
    "# Test that the two implementations give the same results\n",
    "\n",
    "\n",
    "# Check if the results are the same\n",
    "\n"
   ]
  },
  {
   "cell_type": "code",
   "execution_count": null,
   "metadata": {},
   "outputs": [],
   "source": [
    "# Time them!\n",
    "\n",
    "\n"
   ]
  },
  {
   "cell_type": "code",
   "execution_count": null,
   "metadata": {},
   "outputs": [],
   "source": [
    "# Analyze the results, plot a histogram of the runtimes\n",
    "\n"
   ]
  }
 ],
 "metadata": {
  "kernelspec": {
   "display_name": "Python 3",
   "language": "python",
   "name": "python3"
  },
  "language_info": {
   "codemirror_mode": {
    "name": "ipython",
    "version": 3
   },
   "file_extension": ".py",
   "mimetype": "text/x-python",
   "name": "python",
   "nbconvert_exporter": "python",
   "pygments_lexer": "ipython3",
   "version": "3.11.1"
  },
  "orig_nbformat": 4,
  "vscode": {
   "interpreter": {
    "hash": "5238573367df39f7286bb46f9ff5f08f63a01a80960060ce41e3c79b190280fa"
   }
  }
 },
 "nbformat": 4,
 "nbformat_minor": 2
}
