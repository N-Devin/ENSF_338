{
 "cells": [
  {
   "attachments": {},
   "cell_type": "markdown",
   "metadata": {},
   "source": [
    "### We have seen that binary search has average case complexity of O(log(n)). Derive an explanation of why this is the case."
   ]
  },
  {
   "cell_type": "code",
   "execution_count": null,
   "metadata": {},
   "outputs": [],
   "source": [
    "def binarysearch(l, first, last, key):\n",
    "    print(f\"Interval range: [{first}, {last}]\")\n",
    "    if first <= last:\n",
    "        mid = int((first + last)/2)\n",
    "        if key == l[mid]:\n",
    "            return mid\n",
    "        elif key < l[mid]:\n",
    "            return binarysearch(l, first, mid-1, key)\n",
    "        elif key > l[mid]:\n",
    "            return binarysearch(l, mid+1, last, key)\n",
    "    else:\n",
    "        return -1"
   ]
  },
  {
   "cell_type": "markdown",
   "metadata": {},
   "source": []
  }
 ],
 "metadata": {
  "kernelspec": {
   "display_name": "Python 3",
   "language": "python",
   "name": "python3"
  },
  "language_info": {
   "name": "python",
   "version": "3.11.1 (tags/v3.11.1:a7a450f, Dec  6 2022, 19:58:39) [MSC v.1934 64 bit (AMD64)]"
  },
  "orig_nbformat": 4,
  "vscode": {
   "interpreter": {
    "hash": "5238573367df39f7286bb46f9ff5f08f63a01a80960060ce41e3c79b190280fa"
   }
  }
 },
 "nbformat": 4,
 "nbformat_minor": 2
}
