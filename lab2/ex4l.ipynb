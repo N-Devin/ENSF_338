{
 "cells": [
  {
   "attachments": {},
   "cell_type": "markdown",
   "metadata": {},
   "source": [
    "# Sorting Benchmarking\n",
    "In Python, there are implementations of sorting algorithms. One of of which is the sorted() method, and another is the list sort() method.\\\n",
    "In this exercise we want to compare the perfromance of the following sort techniques:\\\n",
    "1- Sorted()\\\n",
    "2- List.Sort()\\\n",
    "3- BubbleSort()\\\n",
    "4- QuickSort()\\\n",
    "\\\n",
    "\\\n",
    "First, let us implement the BubbleSort (optimize it as much as you can)"
   ]
  },
  {
   "cell_type": "code",
   "execution_count": null,
   "metadata": {},
   "outputs": [],
   "source": []
  },
  {
   "attachments": {},
   "cell_type": "markdown",
   "metadata": {},
   "source": [
    "Second, let us implement the QuickSort (use whatever partitioning approach you find easier for you to implement)"
   ]
  },
  {
   "cell_type": "code",
   "execution_count": null,
   "metadata": {},
   "outputs": [],
   "source": []
  },
  {
   "attachments": {},
   "cell_type": "markdown",
   "metadata": {},
   "source": [
    "In the next section we want to test the performance of each of the afformentioned sorting methods\n",
    "- Create random lists of 1000, 2000, 3000, 4000, 5000, 6000, 7000, 8000, 9000, 10000\n",
    "- Generate a random array of integers, of size matching the iteration number and matching integer range\n",
    "- Sort the array by each of the sorting methods once and times it\n",
    "- Store the timing results for each of the methods in its designated list\n",
    "- Plot all 4 Lists\n",
    "\n",
    "What conclusions can we draw from this plot?"
   ]
  },
  {
   "cell_type": "code",
   "execution_count": null,
   "metadata": {},
   "outputs": [],
   "source": []
  },
  {
   "attachments": {},
   "cell_type": "markdown",
   "metadata": {},
   "source": [
    "## Reflection ....\n",
    "- Why are the python implemented sort functions much faster, arent they variation of Merge sort (TimSort) which is comparable to QuickSort?"
   ]
  },
  {
   "cell_type": "code",
   "execution_count": null,
   "metadata": {},
   "outputs": [],
   "source": []
  }
 ],
 "metadata": {
  "kernelspec": {
   "display_name": "Python 3",
   "language": "python",
   "name": "python3"
  },
  "language_info": {
   "codemirror_mode": {
    "name": "ipython",
    "version": 3
   },
   "file_extension": ".py",
   "mimetype": "text/x-python",
   "name": "python",
   "nbconvert_exporter": "python",
   "pygments_lexer": "ipython3",
   "version": "3.11.1 (tags/v3.11.1:a7a450f, Dec  6 2022, 19:58:39) [MSC v.1934 64 bit (AMD64)]"
  },
  "vscode": {
   "interpreter": {
    "hash": "5238573367df39f7286bb46f9ff5f08f63a01a80960060ce41e3c79b190280fa"
   }
  }
 },
 "nbformat": 4,
 "nbformat_minor": 4
}
