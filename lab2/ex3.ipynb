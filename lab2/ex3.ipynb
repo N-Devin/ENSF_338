{
 "cells": [
  {
   "attachments": {},
   "cell_type": "markdown",
   "metadata": {},
   "source": [
    "### When implementing the Bubble sort in the lecture, we have concluded that the best, average, and worst case complexity remains $n^{2}$.\n",
    "What are some suggestions to improve the performance of Bubble Sort (if any)?\\\n",
    "1- Can we improve the worst case performace?\\\n",
    "2- Can we Improve the average case performance?\\\n",
    "3- Can we improve the best case performance?\n",
    " "
   ]
  },
  {
   "cell_type": "markdown",
   "metadata": {},
   "source": []
  }
 ],
 "metadata": {
  "kernelspec": {
   "display_name": "Python 3",
   "language": "python",
   "name": "python3"
  },
  "language_info": {
   "name": "python",
   "version": "3.11.1 (tags/v3.11.1:a7a450f, Dec  6 2022, 19:58:39) [MSC v.1934 64 bit (AMD64)]"
  },
  "orig_nbformat": 4,
  "vscode": {
   "interpreter": {
    "hash": "5238573367df39f7286bb46f9ff5f08f63a01a80960060ce41e3c79b190280fa"
   }
  }
 },
 "nbformat": 4,
 "nbformat_minor": 2
}
